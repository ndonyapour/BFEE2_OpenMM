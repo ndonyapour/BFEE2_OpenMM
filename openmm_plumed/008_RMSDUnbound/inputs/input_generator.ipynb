{
 "cells": [
  {
   "cell_type": "markdown",
   "metadata": {},
   "source": []
  },
  {
   "cell_type": "code",
   "execution_count": 1,
   "metadata": {},
   "outputs": [],
   "source": [
    "import numpy as np\n",
    "import mdtraj as mdj\n"
   ]
  },
  {
   "cell_type": "code",
   "execution_count": 4,
   "metadata": {},
   "outputs": [
    {
     "name": "stderr",
     "output_type": "stream",
     "text": [
      "/home/ndonyapour/miniconda3/envs/bfee2/lib/python3.8/site-packages/mdtraj/formats/pdb/pdbfile.py:200: UserWarning: Unlikely unit cell vectors detected in PDB file likely resulting from a dummy CRYST1 record. Discarding unit cell vectors.\n",
      "  warnings.warn('Unlikely unit cell vectors detected in PDB file likely '\n"
     ]
    }
   ],
   "source": [
    "pdb = mdj.load_pdb('./inputs/ligandOnly.pdb')\n",
    "bfactors = np.ones(pdb.n_atoms)\n",
    "pdb.save_pdb('./inputs/ligandOnly.pdb', bfactors=bfactors)"
   ]
  },
  {
   "cell_type": "code",
   "execution_count": 5,
   "metadata": {},
   "outputs": [
    {
     "name": "stdout",
     "output_type": "stream",
     "text": [
      "[3296,3297,3298,3299,3300,3301,3302,3303,3304,3305]\n"
     ]
    }
   ],
   "source": [
    "pdb = mdj.load_pdb('complex_bfee2.pdb')\n",
    "ligand = pdb.topology.select('resname \"MOL\" and type!=\"H\"')\n",
    "bfactors = np.ones(ligand.size)\n",
    "ligand = pdb.atom_slice(ligand)\n",
    "serials = [atom.serial for atom in ligand.topology.atoms]\n",
    "print(str(serials).replace(' ', ''))\n",
    "ligand.save_pdb('ligand.pdb', bfactors=bfactors)"
   ]
  }
 ],
 "metadata": {
  "kernelspec": {
   "display_name": "Python 3",
   "language": "python",
   "name": "python3"
  },
  "language_info": {
   "codemirror_mode": {
    "name": "ipython",
    "version": 3
   },
   "file_extension": ".py",
   "mimetype": "text/x-python",
   "name": "python",
   "nbconvert_exporter": "python",
   "pygments_lexer": "ipython3",
   "version": "3.8.16"
  },
  "orig_nbformat": 4,
  "vscode": {
   "interpreter": {
    "hash": "c45feb961e4f7b1c3c6255af66865ee89045ea8524e65e365ab4a60946cc5330"
   }
  }
 },
 "nbformat": 4,
 "nbformat_minor": 2
}
