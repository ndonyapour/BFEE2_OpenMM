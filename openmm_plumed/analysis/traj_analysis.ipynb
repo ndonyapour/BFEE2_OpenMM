{
 "cells": [
  {
   "cell_type": "code",
   "execution_count": 2,
   "metadata": {},
   "outputs": [
    {
     "data": {
      "application/vnd.jupyter.widget-view+json": {
       "model_id": "b9c6592a7f25428fb697a490e939f989",
       "version_major": 2,
       "version_minor": 0
      },
      "text/plain": []
     },
     "metadata": {},
     "output_type": "display_data"
    }
   ],
   "source": [
    "import numpy as np\n",
    "import pandas as pd\n",
    "import matplotlib.pyplot as plt\n",
    "import mdtraj as mdj\n",
    "import nglview as nv"
   ]
  },
  {
   "cell_type": "code",
   "execution_count": 3,
   "metadata": {},
   "outputs": [],
   "source": [
    "def measure_center(atom_positions):\n",
    "    \"\"\"mimic the VMD command \"measure center\"\n",
    "    Args:\n",
    "        atom_positions (numpy.array): a numpy array containing the XYZ coordinates of N atoms. The shape should be (N, 3).\n",
    "    Returns:\n",
    "        Numpy.array: a shape of (3,) array contains the geometric center\n",
    "    \"\"\"    \n",
    "\n",
    "    xyz_array = np.transpose(atom_positions)\n",
    "    center_x = np.average(xyz_array[0])\n",
    "    center_y = np.average(xyz_array[1])\n",
    "    center_z = np.average(xyz_array[2])\n",
    "    return np.array([center_x, center_y, center_z])\n",
    "\n",
    "\n",
    "\n"
   ]
  },
  {
   "cell_type": "code",
   "execution_count": 4,
   "metadata": {},
   "outputs": [],
   "source": [
    "# pdb_crys = mdj.load('../inputs/complex.pdb')\n",
    "# pdb_eq = mdj.load('../000_eq/outputs/eq.pdb')\n",
    "# protein_idxs = pdb_crys.top.select(\"protein and type!='H'\")\n",
    "# ligand_idxs = pdb_crys.top.select(\"resname MOL and type!='H'\")\n",
    "# protein_rmsd = mdj.rmsd(pdb_crys, pdb_eq, atom_indices=protein_idxs)\n",
    "# lig_rmsd = mdj.rmsd(pdb_crys, pdb_eq, atom_indices=ligand_idxs)\n",
    "# print(f\"protein rmsd = {protein_rmsd[0] * 10} A, ligand rmsd = {lig_rmsd[0]*10} A\")\n"
   ]
  },
  {
   "cell_type": "code",
   "execution_count": 5,
   "metadata": {},
   "outputs": [
    {
     "name": "stderr",
     "output_type": "stream",
     "text": [
      "/home/ndonyapour/miniconda3/envs/bfee2/lib/python3.8/site-packages/mdtraj/formats/pdb/pdbfile.py:200: UserWarning: Unlikely unit cell vectors detected in PDB file likely resulting from a dummy CRYST1 record. Discarding unit cell vectors.\n",
      "  warnings.warn('Unlikely unit cell vectors detected in PDB file likely '\n"
     ]
    },
    {
     "name": "stdout",
     "output_type": "stream",
     "text": [
      "[4.2773213 3.9284525 3.8494892]\n"
     ]
    }
   ],
   "source": [
    "pdb_crys = mdj.load('../inputs/complex_bfee2.pdb')\n",
    "protein_idxs = pdb_crys.top.select(\"protein and type!='H'\")\n",
    "pdb_crys_com = measure_center(pdb_crys.xyz[:, protein_idxs, :])\n",
    "# \n",
    "print(pdb_crys_com)\n"
   ]
  },
  {
   "cell_type": "code",
   "execution_count": 5,
   "metadata": {},
   "outputs": [
    {
     "name": "stdout",
     "output_type": "stream",
     "text": [
      "[4.27077094 3.93215937 3.84423549]\n"
     ]
    }
   ],
   "source": [
    "traj = mdj.load_dcd('../000_eq/outputs/traj.dcd', '../inputs/complex.pdb')\n",
    "coms = mdj.compute_center_of_mass(traj, select=\"protein and type!='H'\")\n",
    "# dist = np.linalg.norm(coms - pdb_crys_com, axis=1)\n",
    "# plt.plot(dist)\n",
    "print(coms[-1])"
   ]
  },
  {
   "cell_type": "code",
   "execution_count": 31,
   "metadata": {},
   "outputs": [
    {
     "data": {
      "text/plain": [
       "10010"
      ]
     },
     "execution_count": 31,
     "metadata": {},
     "output_type": "execute_result"
    }
   ],
   "source": [
    "dist = np.linalg.norm(coms - ref_com, axis=1)\n",
    "np.argmax(dist)"
   ]
  },
  {
   "cell_type": "code",
   "execution_count": 4,
   "metadata": {},
   "outputs": [],
   "source": [
    "traj = mdj.load_dcd('../001_RMSDBound/outputs/traj.dcd', '../inputs/complex.pdb')\n",
    "new_traj = traj[-5:]\n",
    "new_traj.save_dcd(\"traj_test.dcd\")\n"
   ]
  },
  {
   "cell_type": "code",
   "execution_count": null,
   "metadata": {},
   "outputs": [],
   "source": []
  }
 ],
 "metadata": {
  "kernelspec": {
   "display_name": "Python 3",
   "language": "python",
   "name": "python3"
  },
  "language_info": {
   "codemirror_mode": {
    "name": "ipython",
    "version": 3
   },
   "file_extension": ".py",
   "mimetype": "text/x-python",
   "name": "python",
   "nbconvert_exporter": "python",
   "pygments_lexer": "ipython3",
   "version": "3.8.16"
  },
  "orig_nbformat": 4,
  "vscode": {
   "interpreter": {
    "hash": "c45feb961e4f7b1c3c6255af66865ee89045ea8524e65e365ab4a60946cc5330"
   }
  }
 },
 "nbformat": 4,
 "nbformat_minor": 2
}
