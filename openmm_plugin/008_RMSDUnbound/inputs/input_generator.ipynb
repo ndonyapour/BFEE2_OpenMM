{
 "cells": [
  {
   "cell_type": "markdown",
   "metadata": {},
   "source": []
  },
  {
   "cell_type": "code",
   "execution_count": 1,
   "metadata": {},
   "outputs": [
    {
     "name": "stderr",
     "output_type": "stream",
     "text": [
      "Warning: importing 'simtk.openmm' is deprecated.  Import 'openmm' instead.\n"
     ]
    }
   ],
   "source": [
    "import numpy as np\n",
    "import mdtraj as mdj\n",
    "import parmed as pd \n"
   ]
  },
  {
   "cell_type": "code",
   "execution_count": 2,
   "metadata": {},
   "outputs": [
    {
     "name": "stderr",
     "output_type": "stream",
     "text": [
      "/home/ndonyapour/miniconda3/envs/bfee2/lib/python3.8/site-packages/mdtraj/formats/pdb/pdbfile.py:200: UserWarning: Unlikely unit cell vectors detected in PDB file likely resulting from a dummy CRYST1 record. Discarding unit cell vectors.\n",
      "  warnings.warn('Unlikely unit cell vectors detected in PDB file likely '\n"
     ]
    },
    {
     "name": "stdout",
     "output_type": "stream",
     "text": [
      "@1-5887\n"
     ]
    }
   ],
   "source": [
    "prmtop = pd.amber.AmberParm(\"../../inputs/complex.prmtop\", xyz=\"../../inputs/complex_bfee2.pdb\") # main input files \n",
    "# get the protein indxes \n",
    "protein_idxs = mdj.load_pdb(\"../../inputs/complex_bfee2.pdb\").topology.select(\"protein\")\n",
    "# make Amber protein selection\n",
    "mask_str = f\"@{protein_idxs[0]+1}-{protein_idxs[-1]+1}\"\n",
    "print(mask_str)\n",
    "prmtop.strip(mask_str)\n",
    "# write PDB\n",
    "prmtop.write_pdb(\"ligandOnly.pdb\")\n",
    "\n",
    "# write parm \n",
    "prmtop.write_parm(\"ligandOnly.prmtop\")\n",
    "\n"
   ]
  },
  {
   "cell_type": "code",
   "execution_count": 3,
   "metadata": {},
   "outputs": [
    {
     "name": "stdout",
     "output_type": "stream",
     "text": [
      "[1,2,3,4,5,6,7,8,9,10,11,12,13,14,15,16,17,18,19,20,21,22,23,24,25,26,27,28]\n"
     ]
    }
   ],
   "source": [
    "pdb = mdj.load_pdb('ligandOnly.pdb')\n",
    "ligand = pdb.topology.select('resname \"MOL\" and type!=\"H\"')\n",
    "bfactors = np.ones(ligand.size)\n",
    "ligand = pdb.atom_slice(ligand)\n",
    "serials = [atom.serial for atom in ligand.topology.atoms]\n",
    "print(str(serials).replace(' ', ''))\n",
    "ligand.save_pdb('ligand.pdb', bfactors=bfactors)"
   ]
  },
  {
   "cell_type": "code",
   "execution_count": null,
   "metadata": {},
   "outputs": [],
   "source": []
  }
 ],
 "metadata": {
  "kernelspec": {
   "display_name": "Python 3",
   "language": "python",
   "name": "python3"
  },
  "language_info": {
   "codemirror_mode": {
    "name": "ipython",
    "version": 3
   },
   "file_extension": ".py",
   "mimetype": "text/x-python",
   "name": "python",
   "nbconvert_exporter": "python",
   "pygments_lexer": "ipython3",
   "version": "3.8.16"
  },
  "orig_nbformat": 4,
  "vscode": {
   "interpreter": {
    "hash": "c45feb961e4f7b1c3c6255af66865ee89045ea8524e65e365ab4a60946cc5330"
   }
  }
 },
 "nbformat": 4,
 "nbformat_minor": 2
}
